{
 "cells": [
  {
   "cell_type": "code",
   "execution_count": 1,
   "id": "249bc7ac-318c-4f30-886e-5636e92fb067",
   "metadata": {},
   "outputs": [],
   "source": [
    "import os\n",
    "import glob\n",
    "import pandas as pd\n",
    "from pydeseq2.dds import DeseqDataSet\n",
    "from pydeseq2.ds import DeseqStats\n",
    "from functools import reduce\n",
    "\n",
    "\n",
    "# Visualization\n",
    "import matplotlib.pyplot as plt\n",
    "import seaborn as sns\n",
    "\n",
    "# Stats & ML\n",
    "from sklearn.decomposition import PCA\n",
    "from sklearn.preprocessing import StandardScaler\n",
    "from scipy.spatial.distance import pdist, squareform\n",
    "import numpy as np\n",
    "\n",
    "# Volcano plot utility (we’ll build manually with matplotlib)\n",
    "from matplotlib import cm\n",
    "\n",
    "# Gene ID conversion\n",
    "import mygene\n",
    "\n",
    "# Pathway enrichment (KEGG, Enrichr, etc.)\n",
    "import gseapy as gp\n",
    "from gprofiler import GProfiler"
   ]
  },
  {
   "cell_type": "markdown",
   "id": "9d12fda4-5a21-4544-a578-82fc1f854701",
   "metadata": {},
   "source": [
    "## Introduction"
   ]
  },
  {
   "cell_type": "markdown",
   "id": "be9868fe-d57b-45a6-871f-1ea609540072",
   "metadata": {},
   "source": [
    "Python. Using gene expression count data from control and irradiated mouse salivary gland tissues, we identify differentially expressed genes (DEGs) using the pydeseq2 package and conduct KEGG pathway enrichment analysis with g:Profiler. The aim is to characterize transcriptomic changes resulting from radiation exposure and uncover the biological pathways most affected. Where appropriate, results are compared to those generated using the R-based DESeq2 and clusterProfiler pipeline to assess consistency across platforms."
   ]
  },
  {
   "cell_type": "markdown",
   "id": "0e7866db-17ce-43a1-ab3e-743058adc3ae",
   "metadata": {},
   "source": [
    "## 1. Data Import"
   ]
  },
  {
   "cell_type": "markdown",
   "id": "10388894-b75b-47e0-a469-6bf0752d490f",
   "metadata": {},
   "source": [
    "In this step, we load raw gene count files for three untreated (control) and three irradiated samples. Each file contains raw Ensembl gene counts."
   ]
  },
  {
   "cell_type": "code",
   "execution_count": 2,
   "id": "33e3364c-5994-4275-b54c-1a9e04c587cb",
   "metadata": {},
   "outputs": [],
   "source": [
    "# 1. Load & Merge Count Files\n",
    "raw_data_path = \"../data/raw/\"\n",
    "sample_files = sorted(glob.glob(os.path.join(raw_data_path, \"GSM*.txt\")))\n",
    "sample_names = [\"UT1\", \"UT2\", \"UT3\", \"IR1\", \"IR2\", \"IR3\"]\n",
    "\n",
    "df_list = []\n",
    "for f, name in zip(sample_files, sample_names):\n",
    "    df = pd.read_csv(f, sep=\"\\t\", header=None, names=[\"Ensembl\", name])\n",
    "    df_list.append(df)\n",
    "\n",
    "merged_counts = reduce(lambda left, right: pd.merge(left, right, on=\"Ensembl\"), df_list)\n",
    "merged_counts.set_index(\"Ensembl\", inplace=True)\n"
   ]
  },
  {
   "cell_type": "code",
   "execution_count": 3,
   "id": "ca6f10f1-7230-4140-9ac2-f6997d276b27",
   "metadata": {},
   "outputs": [],
   "source": [
    "# 2. Metadata\n",
    "meta = pd.DataFrame({\n",
    "    \"condition\": [\"Control\"] * 3 + [\"Irradiated\"] * 3\n",
    "}, index=sample_names)"
   ]
  },
  {
   "cell_type": "markdown",
   "id": "dbbc82cb-8fab-4642-bcda-489fb8ad3137",
   "metadata": {},
   "source": [
    "### Notes on Input and Output Files\n",
    "\n",
    "- **Input**: RNA-seq read count files are stored in the `../data/raw/` directory. Each file represents a single biological replicate and contains raw Ensembl gene counts. Files are named using the pattern `GSM*.txt` (e.g., `GSM1.txt`, `GSM2.txt`, etc.), and are read into R using `read_tsv()`.\n",
    "\n",
    "- **Output**:\n",
    "  - Differential expression results: `../results/deseq2_results_python.csv`\n",
    "  - KEGG enrichment results: `../results/kegg_enrichment_python.csv`\n",
    "  - Figures:\n",
    "    - Volcano plot: `../figures/volcano_plot_python.png`\n",
    "    - KEGG barplot: `../figures/kegg_barplot_python.png`\n",
    "    - Heatmap of top variable genes: `../figures/heatmap_top30_genes_python.png`\n",
    "    - PCA plot: `../figures/pca_plot_python.png`\n",
    "    - Sample distance heatmap: `../figures/sample_distance_heatmap_python.png`\n"
   ]
  },
  {
   "cell_type": "markdown",
   "id": "839e9f4f-de0d-457e-922e-46a892a6b518",
   "metadata": {},
   "source": [
    "## 2. DESeq2 Differential Expression Analysis"
   ]
  },
  {
   "cell_type": "code",
   "execution_count": 4,
   "id": "fb7d5c67-a683-4c34-93bf-8d6449a4de1d",
   "metadata": {
    "scrolled": true
   },
   "outputs": [
    {
     "name": "stderr",
     "output_type": "stream",
     "text": [
      "C:\\Users\\nadee\\AppData\\Local\\Temp\\ipykernel_49240\\2315759797.py:2: DeprecationWarning: design_factors is deprecated and will soon be removed.Please consider providing a formulaic formula using the design argumentinstead.\n",
      "  dds = DeseqDataSet(\n",
      "Fitting size factors...\n",
      "... done in 0.01 seconds.\n",
      "\n"
     ]
    },
    {
     "name": "stdout",
     "output_type": "stream",
     "text": [
      "Using None as control genes, passed at DeseqDataSet initialization\n"
     ]
    },
    {
     "name": "stderr",
     "output_type": "stream",
     "text": [
      "Fitting dispersions...\n",
      "... done in 1.01 seconds.\n",
      "\n",
      "Fitting dispersion trend curve...\n",
      "... done in 0.38 seconds.\n",
      "\n",
      "Fitting MAP dispersions...\n",
      "... done in 0.96 seconds.\n",
      "\n",
      "Fitting LFCs...\n",
      "... done in 1.32 seconds.\n",
      "\n",
      "Calculating cook's distance...\n",
      "... done in 0.01 seconds.\n",
      "\n",
      "Replacing 0 outlier genes.\n",
      "\n"
     ]
    }
   ],
   "source": [
    "# 3. Run DESeq2\n",
    "dds = DeseqDataSet(\n",
    "    counts=merged_counts.T,\n",
    "    metadata=meta,\n",
    "    design_factors=\"condition\"\n",
    ")\n",
    "dds.deseq2()"
   ]
  },
  {
   "cell_type": "code",
   "execution_count": 5,
   "id": "ca28b40d-c763-43e3-a503-b26251d6f024",
   "metadata": {},
   "outputs": [
    {
     "name": "stderr",
     "output_type": "stream",
     "text": [
      "Running Wald tests...\n",
      "... done in 2.27 seconds.\n",
      "\n"
     ]
    },
    {
     "name": "stdout",
     "output_type": "stream",
     "text": [
      "Log2 fold change & Wald test p-value: condition Irradiated vs Control\n",
      "                            baseMean  log2FoldChange     lfcSE      stat  \\\n",
      "Ensembl                                                                    \n",
      "ENSMUSG00000000001      4.638397e+02        0.239703  0.151017  1.587265   \n",
      "ENSMUSG00000000003      0.000000e+00             NaN       NaN       NaN   \n",
      "ENSMUSG00000000028      2.118693e+01        0.751958  0.458837  1.638836   \n",
      "ENSMUSG00000000031      9.182366e+01       -0.928921  0.609175 -1.524884   \n",
      "ENSMUSG00000000037      1.334689e+00       -0.639686  1.912022 -0.334560   \n",
      "...                              ...             ...       ...       ...   \n",
      "__no_feature            9.084230e+05       -0.529336  0.108097 -4.896847   \n",
      "__ambiguous             1.692785e+06       -0.154816  0.118391 -1.307674   \n",
      "__too_low_aQual         3.168626e+05       -0.865697  1.706863 -0.507186   \n",
      "__not_aligned           9.125217e+05        0.320248  0.448384  0.714228   \n",
      "__alignment_not_unique  2.793916e+06       -0.172730  0.135171 -1.277859   \n",
      "\n",
      "                              pvalue      padj  \n",
      "Ensembl                                         \n",
      "ENSMUSG00000000001      1.124527e-01  0.634675  \n",
      "ENSMUSG00000000003               NaN       NaN  \n",
      "ENSMUSG00000000028      1.012473e-01  0.612490  \n",
      "ENSMUSG00000000031      1.272879e-01  0.654637  \n",
      "ENSMUSG00000000037      7.379570e-01       NaN  \n",
      "...                              ...       ...  \n",
      "__no_feature            9.738655e-07  0.000497  \n",
      "__ambiguous             1.909839e-01  0.741563  \n",
      "__too_low_aQual         6.120241e-01  0.933918  \n",
      "__not_aligned           4.750862e-01  0.895028  \n",
      "__alignment_not_unique  2.012990e-01  0.751221  \n",
      "\n",
      "[52641 rows x 6 columns]\n",
      "                 Ensembl  log2FoldChange          padj\n",
      "86    ENSMUSG00000000486        1.363002  4.295362e-02\n",
      "841   ENSMUSG00000005410        1.735336  2.805244e-04\n",
      "1134  ENSMUSG00000007877       -1.278855  1.644314e-02\n",
      "1155  ENSMUSG00000008193        1.842770  2.172155e-02\n",
      "1889  ENSMUSG00000018168        1.499609  5.371243e-03\n",
      "1974  ENSMUSG00000018654        2.107841  5.391000e-09\n",
      "2341  ENSMUSG00000020143        1.139380  1.483928e-02\n",
      "2423  ENSMUSG00000020279        3.483882  4.234300e-02\n",
      "2451  ENSMUSG00000020326        1.035291  3.890702e-13\n",
      "2602  ENSMUSG00000020589        1.440402  1.344561e-02\n"
     ]
    }
   ],
   "source": [
    "# 4. Get Results\n",
    "ds = DeseqStats(dds, contrast=[\"condition\", \"Irradiated\", \"Control\"])\n",
    "ds.summary()\n",
    "\n",
    "res_df = ds.results_df.copy()\n",
    "res_df.index.name = \"Ensembl\"\n",
    "res_df.reset_index(inplace=True)\n",
    "\n",
    "# 5. Filtering significant DEGs (padj < 0.05, abs(log2FC) > 1)\n",
    "filtered_degs = res_df[\n",
    "    (res_df[\"padj\"] < 0.05) & (res_df[\"log2FoldChange\"].abs() > 1)\n",
    "].copy()\n",
    "\n",
    "# 6. Save outputs\n",
    "res_df.to_csv(\"../results/deseq2_results_python.csv\", index=False)\n",
    "filtered_degs.to_csv(\"../results/deseq2_significant_genes_python.csv\", index=False)\n",
    "\n",
    "# Optional: Show top genes\n",
    "print(filtered_degs[[\"Ensembl\", \"log2FoldChange\", \"padj\"]].head(10))\n"
   ]
  },
  {
   "cell_type": "markdown",
   "id": "124f89f7-e71b-4bb1-a4b5-3bd54f6bab25",
   "metadata": {},
   "source": [
    "## 3. Volcano Plot of DEGs"
   ]
  },
  {
   "cell_type": "code",
   "execution_count": 18,
   "id": "fe3d8f06-4aeb-489a-9190-3524e779ecdf",
   "metadata": {},
   "outputs": [],
   "source": [
    "# Load DESeq2 results\n",
    "res_df = pd.read_csv(\"../results/deseq2_results_python.csv\")\n",
    "res_df[\"padj\"].fillna(1, inplace=True)\n",
    "\n",
    "# Use gProfiler to map Ensembl IDs to symbols\n",
    "gp = GProfiler(return_dataframe=True)\n",
    "conversion = gp.convert(organism='mmusculus', query=res_df[\"Ensembl\"].tolist())\n",
    "\n",
    "# Merge symbol info\n",
    "res_df = res_df.merge(conversion[['incoming', 'name']], left_on='Ensembl', right_on='incoming', how='left')\n",
    "res_df.rename(columns={\"name\": \"symbol\"}, inplace=True)\n",
    "res_df.drop(columns=[\"incoming\"], inplace=True)\n",
    "\n",
    "# Define EnhancedVolcano-style categories\n",
    "conditions = [\n",
    "    (res_df[\"padj\"] >= 0.05) & (abs(res_df[\"log2FoldChange\"]) <= 1),\n",
    "    (res_df[\"padj\"] >= 0.05) & (abs(res_df[\"log2FoldChange\"]) > 1),\n",
    "    (res_df[\"padj\"] < 0.05) & (abs(res_df[\"log2FoldChange\"]) <= 1),\n",
    "    (res_df[\"padj\"] < 0.05) & (abs(res_df[\"log2FoldChange\"]) > 1)\n",
    "]\n",
    "labels = [\"NS\", \"Log2 FC\", \"p-value\", \"p-value and log2 FC\"]\n",
    "res_df[\"significant\"] = np.select(conditions, labels, default=\"NS\")\n",
    "\n",
    "\n",
    "# Color palette matching EnhancedVolcano\n",
    "palette = {\n",
    "    \"NS\": \"gray\",\n",
    "    \"Log2 FC\": \"green\",\n",
    "    \"p-value\": \"blue\",\n",
    "    \"p-value and log2 FC\": \"red\"\n",
    "}\n",
    "\n",
    "# Create Volcano plot\n",
    "plt.figure(figsize=(10, 7))\n",
    "ax = sns.scatterplot(\n",
    "    data=res_df,\n",
    "    x=\"log2FoldChange\",\n",
    "    y=-np.log10(res_df[\"padj\"]),\n",
    "    hue=\"significant\",\n",
    "    palette=palette,\n",
    "    linewidth=0,\n",
    "    alpha=0.7\n",
    ")\n",
    "\n",
    "# Threshold lines\n",
    "plt.axhline(-np.log10(0.05), color='black', linestyle='--', linewidth=1)\n",
    "plt.axvline(1, color='black', linestyle='--', linewidth=1)\n",
    "plt.axvline(-1, color='black', linestyle='--', linewidth=1)\n",
    "\n",
    "# Annotate top 10 significant genes (with symbols)\n",
    "top_genes = res_df.sort_values(\"padj\").dropna(subset=[\"symbol\"]).head(10)\n",
    "for _, row in top_genes.iterrows():\n",
    "    ax.text(row[\"log2FoldChange\"], -np.log10(row[\"padj\"]), row[\"symbol\"],\n",
    "            fontsize=8, ha='right' if row[\"log2FoldChange\"] < 0 else 'left',\n",
    "            va='center', color='black')\n",
    "\n",
    "# Plot decorations\n",
    "plt.title(\"Volcano Plot: Irradiated vs Control\")\n",
    "plt.xlabel(\"log2 Fold Change\")\n",
    "plt.ylabel(\"-log10 Adjusted p-value\")\n",
    "plt.legend(title=None)  # remove legend title to match R style\n",
    "plt.tight_layout()\n",
    "plt.savefig(\"../figures/volcano_plot_python.png\", dpi=300)\n",
    "plt.close()"
   ]
  },
  {
   "cell_type": "markdown",
   "id": "b118f433-98cf-4112-8d2f-b6c6e38b217b",
   "metadata": {},
   "source": [
    "## 4. Map Ensembl IDs to Entrez IDs"
   ]
  },
  {
   "cell_type": "code",
   "execution_count": 7,
   "id": "80669fbe-4039-4ac3-b191-7d72493a2f43",
   "metadata": {},
   "outputs": [
    {
     "name": "stderr",
     "output_type": "stream",
     "text": [
      "Input sequence provided is already in string format. No operation performed\n",
      "Input sequence provided is already in string format. No operation performed\n",
      "3 input query terms found dup hits:\t[('ENSMUSG00000072694', 2), ('ENSMUSG00000106441', 2), ('ENSMUSG00000112376', 2)]\n",
      "4068 input query terms found no hit:\t['ENSMUSG00000000325', 'ENSMUSG00000004613', 'ENSMUSG00000011052', 'ENSMUSG00000021745', 'ENSMUSG000\n"
     ]
    }
   ],
   "source": [
    "# Initialize mygene client\n",
    "mg = mygene.MyGeneInfo()\n",
    "\n",
    "# Extract unique Ensembl IDs\n",
    "ensembl_ids = res_df[\"Ensembl\"].dropna().unique().tolist()\n",
    "\n",
    "# Query mygene.info for Entrez IDs\n",
    "query_result = mg.querymany(\n",
    "    ensembl_ids,\n",
    "    scopes=\"ensembl.gene\",\n",
    "    fields=\"entrezgene\",\n",
    "    species=\"mouse\",\n",
    "    as_dataframe=True\n",
    ")\n",
    "\n",
    "# Drop rows without Entrez mapping\n",
    "query_result = query_result[~query_result[\"entrezgene\"].isna()]\n",
    "\n",
    "# Clean and prepare for merging\n",
    "query_result = query_result[[\"entrezgene\"]]\n",
    "query_result.reset_index(inplace=True)\n",
    "query_result.rename(columns={\"query\": \"Ensembl\", \"entrezgene\": \"entrez\"}, inplace=True)\n",
    "\n",
    "# Merge with DESeq2 results\n",
    "res_df = res_df.merge(query_result, on=\"Ensembl\", how=\"left\")\n",
    "\n",
    "# Filter significant DEGs with Entrez\n",
    "sig_entrez_ids = res_df.loc[\n",
    "    (res_df[\"padj\"] < 0.05) & (res_df[\"log2FoldChange\"].abs() > 1) & res_df[\"entrez\"].notnull(),\n",
    "    \"entrez\"\n",
    "].astype(str).tolist()\n",
    "\n",
    "# Save mapped data (optional)\n",
    "res_df.to_csv(\"../results/deseq2_results_with_entrez_python.csv\", index=False)"
   ]
  },
  {
   "cell_type": "markdown",
   "id": "3726d054-e3fa-470d-9fb5-ead577032b6e",
   "metadata": {},
   "source": [
    "## 5. KEGG Pathway Enrichment"
   ]
  },
  {
   "cell_type": "markdown",
   "id": "f5fc608f-b301-47bb-af81-18c0300f20aa",
   "metadata": {},
   "source": [
    "Using enrichKEGG, we identify biological pathways enriched among significantly differentially expressed genes."
   ]
  },
  {
   "cell_type": "code",
   "execution_count": 8,
   "id": "767e1927-d84d-40c8-8c34-62d2174539fb",
   "metadata": {},
   "outputs": [],
   "source": [
    "gp = GProfiler(return_dataframe=True)\n",
    "\n",
    "results = gp.profile(\n",
    "    organism='mmusculus',\n",
    "    query=sig_entrez_ids,  # or gene symbols\n",
    "    sources=['GO:BP', 'KEGG']\n",
    ")\n",
    "\n",
    "results.to_csv(\"../results/gprofiler_enrichment_results_python.csv\", index=False)"
   ]
  },
  {
   "cell_type": "markdown",
   "id": "5de3a79d-c371-4bb1-88a7-6b558be40c4a",
   "metadata": {},
   "source": [
    "## 6. Visualize Top KEGG Pathways"
   ]
  },
  {
   "cell_type": "markdown",
   "id": "5de14754-fa3d-4a47-9608-a8e8a3d12d1a",
   "metadata": {},
   "source": [
    "This barplot displays the top 10 enriched KEGG pathways based on adjusted p-values."
   ]
  },
  {
   "cell_type": "code",
   "execution_count": 9,
   "id": "adc4a119-1e4c-4b07-bf37-afb04d411114",
   "metadata": {},
   "outputs": [],
   "source": [
    "import pandas as pd\n",
    "import seaborn as sns\n",
    "import matplotlib.pyplot as plt\n",
    "import matplotlib.colors as mcolors\n",
    "import numpy as np\n",
    "\n",
    "# Sort and select top 10 KEGG pathways\n",
    "top_kegg = results[results['source'] == 'KEGG'].sort_values(\"p_value\").head(10).copy()\n",
    "top_kegg[\"Gene Count\"] = top_kegg[\"intersection_size\"]\n",
    "top_kegg[\"log_pval\"] = -np.log10(top_kegg[\"p_value\"])\n",
    "\n",
    "# Normalize colors\n",
    "norm = mcolors.Normalize(vmin=top_kegg[\"log_pval\"].min(), vmax=top_kegg[\"log_pval\"].max())\n",
    "cmap = plt.cm.coolwarm\n",
    "colors = cmap(norm(top_kegg[\"log_pval\"].values))\n",
    "\n",
    "# Plot\n",
    "fig, ax = plt.subplots(figsize=(10, 6))\n",
    "bars = ax.barh(\n",
    "    y=top_kegg[\"name\"],\n",
    "    width=top_kegg[\"Gene Count\"],\n",
    "    color=colors,\n",
    "    edgecolor=\"black\"\n",
    ")\n",
    "ax.set_xlabel(\"Gene Count\")\n",
    "ax.set_title(\"Top Enriched KEGG Pathways\")\n",
    "ax.invert_yaxis()\n",
    "\n",
    "# Attach colorbar to the current axis\n",
    "sm = plt.cm.ScalarMappable(cmap=cmap, norm=norm)\n",
    "sm.set_array([])\n",
    "cbar = fig.colorbar(sm, ax=ax)\n",
    "cbar.set_label(\"-log10(p-value)\")\n",
    "\n",
    "# Save and show\n",
    "plt.tight_layout()\n",
    "plt.savefig(\"../figures/kegg_barplot_python.png\", dpi=300)\n",
    "plt.close()"
   ]
  },
  {
   "cell_type": "markdown",
   "id": "ebd28306-9f1d-4e0c-879e-bead15319aaa",
   "metadata": {},
   "source": [
    "## 7. Heatmap of Highly Variable Genes"
   ]
  },
  {
   "cell_type": "markdown",
   "id": "5510cf2b-9fdd-4d5c-bef8-9ccb35b3fdde",
   "metadata": {},
   "source": [
    "We display a heatmap of the top 30 most variable genes across all samples to visualize sample clustering and expression patterns."
   ]
  },
  {
   "cell_type": "code",
   "execution_count": 22,
   "id": "db63c33d-154b-4b60-85bd-27a45f500a0f",
   "metadata": {
    "scrolled": true
   },
   "outputs": [
    {
     "name": "stdout",
     "output_type": "stream",
     "text": [
      "Fit type used for VST : parametric\n",
      "Using None as control genes, passed at DeseqDataSet initialization\n"
     ]
    },
    {
     "name": "stderr",
     "output_type": "stream",
     "text": [
      "Fitting size factors...\n",
      "... done in 0.01 seconds.\n",
      "\n",
      "Fitting dispersions...\n",
      "... done in 1.26 seconds.\n",
      "\n"
     ]
    }
   ],
   "source": [
    "# 1. Get VST counts from dds\n",
    "dds.vst()\n",
    "vst_counts = dds.layers[\"vst_counts\"]\n",
    "\n",
    "# 2. Create DataFrame with genes as rows, samples as columns\n",
    "vst_df = pd.DataFrame(\n",
    "    vst_counts.T,\n",
    "    index=dds.var_names,\n",
    "    columns=dds.obs_names\n",
    ")\n",
    "\n",
    "# 3. Select top 30 most variable genes\n",
    "top_genes = vst_df.var(axis=1).sort_values(ascending=False).head(30).index\n",
    "\n",
    "# 4. Subset and row-center the matrix\n",
    "mat = vst_df.loc[top_genes]\n",
    "mat_centered = mat.sub(mat.mean(axis=1), axis=0)\n",
    "\n",
    "# 5. Plot clustered heatmap\n",
    "cg = sns.clustermap(\n",
    "    mat_centered,\n",
    "    cmap=\"RdYlBu_r\",\n",
    "    metric=\"correlation\",\n",
    "    method=\"average\",\n",
    "    col_cluster=True,\n",
    "    row_cluster=True,\n",
    "    linewidths=0.5,\n",
    "    xticklabels=True,\n",
    "    yticklabels=True,\n",
    "    figsize=(10, 10)\n",
    ")\n",
    "\n",
    "# 6. Set a proper title using fig.suptitle and adjust layout\n",
    "cg.fig.suptitle(\"Top 30 Most Variable Genes\", fontsize=16)\n",
    "cg.fig.subplots_adjust(top=0.92)  # make space for title\n",
    "\n",
    "# 7. Save and show\n",
    "cg.savefig(\"../figures/heatmap_top30_genes_python.png\")\n",
    "plt.close()"
   ]
  },
  {
   "cell_type": "code",
   "execution_count": 20,
   "id": "8894b269-4db1-4b94-a5bd-5bc5bfa957a0",
   "metadata": {},
   "outputs": [],
   "source": [
    "# 1. Scale the data\n",
    "scaled_data = StandardScaler().fit_transform(vst_df.T)  # Transpose to shape (samples x genes)\n",
    "\n",
    "# 2. Run PCA\n",
    "pca = PCA(n_components=2)\n",
    "pca_result = pca.fit_transform(scaled_data)\n",
    "\n",
    "# 3. Create PCA dataframe\n",
    "pca_df = pd.DataFrame(pca_result, columns=[\"PC1\", \"PC2\"], index=vst_df.columns)\n",
    "pca_df[\"condition\"] = dds.obs[\"condition\"].values\n",
    "\n",
    "# 4. Plot\n",
    "group_colors = {\n",
    "    \"Control\": \"#F8766D\",     # Pink/red-ish\n",
    "    \"Irradiated\": \"#00BFC4\"   # Teal/cyan\n",
    "}\n",
    "\n",
    "plt.figure(figsize=(8, 6))\n",
    "sns.scatterplot(data=pca_df, x=\"PC1\", y=\"PC2\", hue=\"condition\", s=100, palette=group_colors)\n",
    "\n",
    "pc1_var = pca.explained_variance_ratio_[0] * 100\n",
    "pc2_var = pca.explained_variance_ratio_[1] * 100\n",
    "plt.xlabel(f\"PC1: {pc1_var:.1f}% variance\")\n",
    "plt.ylabel(f\"PC2: {pc2_var:.1f}% variance\")\n",
    "plt.title(\"PCA of Sample Gene Expression\")\n",
    "plt.legend(title=\"Condition\")\n",
    "plt.tight_layout()\n",
    "plt.savefig(\"../figures/pca_plot_python.png\")\n",
    "plt.close()"
   ]
  },
  {
   "cell_type": "markdown",
   "id": "0d73af10-1ddb-4b0e-b8e4-e20ef66b31c2",
   "metadata": {},
   "source": [
    "### Interpretation of Quality Control Results"
   ]
  },
  {
   "cell_type": "markdown",
   "id": "7dcb06b5-dc57-408e-80a0-5f65f2fe9927",
   "metadata": {},
   "source": [
    "The PCA plot of variance-stabilized gene expression data reveals a clear separation between control and irradiated samples along the first two principal components. Principal Component 1 (PC1) explains 26.2% of the total variance, while PC2 accounts for an additional 21.5%, together capturing nearly half of the total variation in the data.\n",
    "\n",
    "Samples from the control group (UT1–UT3) cluster tightly on the left side of the plot, while irradiated samples (IR1–IR3) are distinctly positioned on the right, suggesting that radiation exposure induces substantial transcriptomic changes. This separation supports the biological relevance of the experimental conditions and provides a strong foundation for downstream differential expression analysis.\n",
    "\n",
    "Although the sample sizes are small, the consistent grouping by condition indicates good data quality and minimal technical variation, strengthening confidence in the results."
   ]
  }
 ],
 "metadata": {
  "kernelspec": {
   "display_name": "Python 3 (ipykernel)",
   "language": "python",
   "name": "python3"
  },
  "language_info": {
   "codemirror_mode": {
    "name": "ipython",
    "version": 3
   },
   "file_extension": ".py",
   "mimetype": "text/x-python",
   "name": "python",
   "nbconvert_exporter": "python",
   "pygments_lexer": "ipython3",
   "version": "3.12.11"
  }
 },
 "nbformat": 4,
 "nbformat_minor": 5
}
